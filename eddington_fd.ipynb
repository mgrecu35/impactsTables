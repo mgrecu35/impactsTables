{
 "cells": [
  {
   "cell_type": "code",
   "execution_count": 3,
   "metadata": {},
   "outputs": [],
   "source": [
    "import eddington_fd as eddington\n",
    "\n",
    "import netCDF4 as nc\n",
    "\n",
    "with nc.Dataset('rte_CoSSIR_15Jan2023.nc') as f:\n",
    "    kext=f.variables['kext'][:]\n",
    "    scat=f.variables['scat'][:]\n",
    "    asym=f.variables['asym'][:]\n",
    "    temp=f.variables['temp'][:]\n",
    "    tb=f.variables['tb'][:]"
   ]
  },
  {
   "cell_type": "code",
   "execution_count": 4,
   "metadata": {},
   "outputs": [],
   "source": [
    "dir(eddington)\n",
    "i0=0\n",
    "dz=0.25\n",
    "import numpy as np\n",
    "tbL=[]\n",
    "for i0 in range(1000):\n",
    "    kext1=kext[i0,:].copy()\n",
    "    scat1=scat[i0,:].copy()\n",
    "    asym1=asym[i0,:].copy()\n",
    "    temp1=temp[i0,:].copy()\n",
    "    temp_mid=(temp1[:-1]+temp1[1:])/2\n",
    "    eps=0.7\n",
    "    A,B=eddington.seteddington1d(kext1,scat1,asym1,temp_mid,eps,dz,temp1[0])\n",
    "    I01p=np.linalg.solve(A,B)\n",
    "    #print([A[0:10,0:10]])\n",
    "    incAng=53.0\n",
    "    Tb=eddington.tbf90(I01p,temp_mid,incAng,kext1,scat1,asym1,eps,dz)\n",
    "    #print(Tb)\n",
    "    tbL.append(Tb)"
   ]
  },
  {
   "cell_type": "code",
   "execution_count": 64,
   "metadata": {},
   "outputs": [],
   "source": [
    "import numpy as np\n",
    "\n",
    "def tbf90_numpy(I01p, T, incAng, k, a, g, n, eps, dz):\n",
    "    pi = 3.1415\n",
    "    cos1 = np.cos(incAng / 180.0 * pi)\n",
    "    \n",
    "    Jup = np.zeros(n + 1)\n",
    "    Jd = np.zeros(n + 1)\n",
    "    \n",
    "    for k1 in range(n + 1):\n",
    "        Jup[k1] = (1 - a[k1]) * T[k1] + a[k1] * (0.5 * (I01p[2*k1] + I01p[2*k1 + 2]) * g[k1] * cos1 + I01p[2*k1+1])\n",
    "        Jd[k1] = (1 - a[k1]) * T[k1] + a[k1] * (-0.5 * (I01p[2*k1] + I01p[2*k1 + 2]) * g[k1] * cos1 + I01p[2*k1+1])\n",
    "    \n",
    "    intDo = np.zeros(n + 1)\n",
    "    intUp = np.zeros(n + 1)\n",
    "    \n",
    "    intDo[0] = k[0] * dz / 2\n",
    "    intUp[n] = k[n] * dz / 2\n",
    "    \n",
    "    for k1 in range(1, n+1):\n",
    "        intUp[n - k1] = intUp[n - k1 + 1] + 0.5 * (k[n - k1] + k[n - k1 + 1]) * dz\n",
    "    \n",
    "    for k1 in range(1, n + 1):\n",
    "        intDo[k1] = intDo[k1 - 1] + 0.5 * (k[k1] + k[k1 - 1]) * dz\n",
    "    \n",
    "    sumJD = 0.0\n",
    "    sumJU = 0.0\n",
    "    \n",
    "    for i in range(n + 1):\n",
    "        sumJD += Jd[i] * np.exp(-intDo[i] / cos1) * k[i] * dz / cos1\n",
    "        sumJU += Jup[i] * np.exp(-intUp[i] / cos1) * k[i] * dz / cos1\n",
    "    \n",
    "    Tb = (1 - eps) * np.exp(-intUp[0] / cos1) * sumJD + sumJU + eps * np.exp(-intUp[0] / cos1) * T[0]\n",
    "    return Tb\n",
    "\n",
    "def SetEddington1D_numpy(k, a, g, T, n, eps, dz, Ts):\n",
    "    Abig=np.zeros((2*n+3,2*n+3),float)\n",
    "    B=np.zeros((2*n+3),float)\n",
    "    \n",
    "    for i in range(n + 1):\n",
    "        Abig[2*i + 1, 2*i + 1] = 3 * k[i] * (1 - a[i]) * dz\n",
    "        Abig[2*i + 1, 2*i + 2] = 1\n",
    "        Abig[2*i + 1, 2*i] = -1\n",
    "        B[2*i + 1] = 3 * k[i] * (1 - a[i]) * T[i] * dz\n",
    "        \n",
    "        if 2*i + 2 < 2*n + 3-2:\n",
    "            #print(i,k.shape)\n",
    "            km = 0.5 * (k[i] + k[i + 1])\n",
    "            am = 0.5 * (a[i] + a[i + 1])\n",
    "            gm = 0.5 * (g[i] + g[i + 1])\n",
    "            Abig[2*i + 2, 2*i + 2] = km * (1 - am * gm) * dz\n",
    "            Abig[2*i + 2, 2*i + 3] = 1\n",
    "            Abig[2*i + 2, 2*i + 1] = -1\n",
    "            B[2*i + 2] = 0.0\n",
    "    \n",
    "    Abig[2*n + 2, 2*n + 1] = 1.0\n",
    "    Abig[2*n + 2, 2*n + 2] = -1.0 / 3\n",
    "    Abig[2*n + 2, 2*n] = -1.0 / 3\n",
    "    B[2*n + 2] = 2.7\n",
    "    \n",
    "    Abig[0, 0] = (2 - eps) / (3 * eps)\n",
    "    Abig[0, 1] = 1.0\n",
    "    Abig[0, 2] = (2 - eps) / (3 * eps)\n",
    "    B[0] = Ts\n",
    "    return Abig, B\n",
    "\n",
    "def tbwrapper_numpy(kext1, scat1, asym1, temp_mid, dz, eps,n, incAng):\n",
    "    Abig_py, B_py = SetEddington1D_numpy(kext1, scat1, asym1, temp_mid, n, eps, dz, temp_mid[0])\n",
    "    I01p_py = np.linalg.solve(Abig_py, B_py)\n",
    "    Tb_py = tbf90_numpy(I01p_py, temp_mid, incAng, kext1, scat1, asym1, n, eps, dz)\n",
    "    return Tb_py"
   ]
  },
  {
   "cell_type": "code",
   "execution_count": null,
   "metadata": {},
   "outputs": [],
   "source": []
  },
  {
   "cell_type": "code",
   "execution_count": 37,
   "metadata": {},
   "outputs": [
    {
     "name": "stdout",
     "output_type": "stream",
     "text": [
      "247.80090273711838 247.80091857910156\n"
     ]
    }
   ],
   "source": [
    "Tb_pyL=[]\n",
    "for i0 in range(1000):\n",
    "    kext1=kext[i0,:].copy()\n",
    "    scat1=scat[i0,:].copy()\n",
    "    asym1=asym[i0,:].copy()\n",
    "    temp1=temp[i0,:].copy()\n",
    "    temp_mid=(temp1[:-1]+temp1[1:])/2\n",
    "    eps=0.7\n",
    "    Abig_py, B_py = SetEddington1D(kext1, scat1, asym1, temp_mid, 79, 0.7, 0.25, temp1[0])\n",
    "    I01p_py = np.linalg.solve(Abig_py, B_py)\n",
    "    Tb_py = tbf90_py(I01p_py, temp_mid, 53.0, kext1, scat1, asym1, 79, 0.7, 0.25)\n",
    "    Tb_pyL.append(Tb_py)\n",
    "#print(np.isclose(A, Abig_py).all())\n",
    "#print(np.isclose(B, B_py).all())\n",
    "#print(np.isclose(I01p, I01p_py).all())\n",
    "import matplotlib.pyplot as plt\n",
    "#plt.scatter(B,B_py)\n",
    "#plt.scatter(A.flatten(),Abig_py.flatten())\n",
    "#plt.scatter(I01p,I01p_py)\n",
    "print(Tb_py, Tb)"
   ]
  },
  {
   "cell_type": "code",
   "execution_count": 39,
   "metadata": {},
   "outputs": [
    {
     "name": "stdout",
     "output_type": "stream",
     "text": [
      "[[1. 1.]\n",
      " [1. 1.]]\n"
     ]
    }
   ],
   "source": [
    "print(np.corrcoef(tbL,Tb_pyL))"
   ]
  },
  {
   "cell_type": "code",
   "execution_count": 59,
   "metadata": {},
   "outputs": [],
   "source": [
    "import torch\n",
    "from math import cos\n",
    "\n",
    "#@torch.jit.script\n",
    "def tbf90_py(I01p, T, incAng, k, a, g, n, eps, dz):\n",
    "    pi = 3.1415\n",
    "    cos1 = cos(incAng / 180.0 * pi)\n",
    "    \n",
    "    Jup = torch.zeros(n + 1)\n",
    "    Jd = torch.zeros(n + 1)\n",
    "    \n",
    "    for k1 in range(n + 1):\n",
    "        Jup[k1] = (1 - a[k1]) * T[k1] + a[k1] * (0.5 * (I01p[2*k1] + I01p[2*k1 + 2]) * g[k1] * cos1 + I01p[2*k1 + 1])\n",
    "        Jd[k1] = (1 - a[k1]) * T[k1] + a[k1] * (-0.5 * (I01p[2*k1] + I01p[2*k1 + 2]) * g[k1] * cos1 + I01p[2*k1 + 1])\n",
    "    \n",
    "    intDo = torch.zeros(n + 1)\n",
    "    intUp = torch.zeros(n + 1)\n",
    "    \n",
    "    intDo[0] = k[0] * dz / 2\n",
    "    intUp[n] = k[n] * dz / 2\n",
    "    \n",
    "    for k1 in range(1, n + 1):\n",
    "        intUp[n - k1] = intUp[n - k1 + 1] + 0.5 * (k[n - k1] + k[n - k1 + 1]) * dz\n",
    "    \n",
    "    for k1 in range(1, n + 1):\n",
    "        intDo[k1] = intDo[k1 - 1] + 0.5 * (k[k1] + k[k1 - 1]) * dz\n",
    "    \n",
    "    sumJD = torch.tensor(0.0)\n",
    "    sumJU = torch.tensor(0.0)\n",
    "    \n",
    "    for i in range(n + 1):\n",
    "        sumJD += Jd[i] * torch.exp(-intDo[i] / cos1) * k[i] * dz / cos1\n",
    "        sumJU += Jup[i] * torch.exp(-intUp[i] / cos1) * k[i] * dz / cos1\n",
    "    \n",
    "    Tb = (1 - eps) * torch.exp(-intUp[0] / cos1) * sumJD + sumJU + eps * torch.exp(-intUp[0] / cos1) * T[0]\n",
    "    return Tb\n",
    "\n",
    "#@torch.jit.script\n",
    "def SetEddington1D(k, a, g, T, n, eps, dz, Ts):\n",
    "    Abig = torch.zeros((2*n+3, 2*n+3), dtype=torch.float32)\n",
    "    B = torch.zeros(2*n+3, dtype=torch.float32)\n",
    "    \n",
    "    for i in range(n + 1):\n",
    "        Abig[2*i + 1, 2*i + 1] = 3 * k[i] * (1 - a[i]) * dz\n",
    "        Abig[2*i + 1, 2*i + 2] = 1\n",
    "        Abig[2*i + 1, 2*i] = -1\n",
    "        B[2*i + 1] = 3 * k[i] * (1 - a[i]) * T[i] * dz\n",
    "        \n",
    "        if 2*i + 2 < 2*n + 3 - 2:\n",
    "            km = 0.5 * (k[i] + k[i + 1])\n",
    "            am = 0.5 * (a[i] + a[i + 1])\n",
    "            gm = 0.5 * (g[i] + g[i + 1])\n",
    "            Abig[2*i + 2, 2*i + 2] = km * (1 - am * gm) * dz\n",
    "            Abig[2*i + 2, 2*i + 3] = 1\n",
    "            Abig[2*i + 2, 2*i + 1] = -1\n",
    "            B[2*i + 2] = 0.0\n",
    "    \n",
    "    Abig[2*n + 2, 2*n + 1] = 1.0\n",
    "    Abig[2*n + 2, 2*n + 2] = -1.0 / 3\n",
    "    Abig[2*n + 2, 2*n] = -1.0 / 3\n",
    "    B[2*n + 2] = 2.7\n",
    "    \n",
    "    Abig[0, 0] = (2 - eps) / (3 * eps)\n",
    "    Abig[0, 1] = 1.0\n",
    "    Abig[0, 2] = (2 - eps) / (3 * eps)\n",
    "    B[0] = Ts\n",
    "    return Abig, B\n",
    "\n",
    "def tbwrapper(kext1, scat1, asym1, temp_mid, dz, eps, n, incAng):\n",
    "    #temp_mid = temp1[1:-1]\n",
    "    Abig_py, B_py = SetEddington1D(kext1, scat1, asym1, temp_mid, n, eps, dz, temp_mid[0])\n",
    "    I01p_py = torch.linalg.solve(Abig_py, B_py)\n",
    "    Tb_py = tbf90_py(I01p_py, temp_mid, incAng, kext1, scat1, asym1, n, eps, dz)\n",
    "    return Tb_py\n"
   ]
  },
  {
   "cell_type": "code",
   "execution_count": 63,
   "metadata": {},
   "outputs": [],
   "source": [
    "\n",
    "# Example usage:\n",
    "# Define your input tensors with requires_grad=True if you want to calculate gradients with respect to them\n",
    "for i in range(1000):\n",
    "    kext1 = kext[i,:].copy()\n",
    "    scat1 = scat[i,:].copy()\n",
    "    asym1 = asym[i,:].copy()\n",
    "    temp1 = temp[i,:].copy()\n",
    "    temp_mid = (temp1[:-1] + temp1[1:]) / 2\n",
    "    kext1_torch = torch.tensor(kext1, dtype=torch.float32, requires_grad=True)\n",
    "    scat1_torch = torch.tensor(scat1, dtype=torch.float32, requires_grad=True)\n",
    "    asym1_torch = torch.tensor(asym1, dtype=torch.float32, requires_grad=True)\n",
    "    temp_mid_torch = torch.tensor(temp_mid, dtype=torch.float32, requires_grad=True)\n",
    "\n",
    "# dz, eps, n, and incAng can remain as Python variables\n",
    "    dz = 0.25  # example value\n",
    "    eps = torch.tensor(0.75, dtype=torch.float32, requires_grad=True)  # example value\n",
    "    n = 79    # example value\n",
    "    incAng = 53.0  # example value\n",
    "\n",
    "# Calculate Tb\n",
    "    Tb_torch = tbwrapper(kext1_torch, scat1_torch, asym1_torch, temp_mid_torch, dz, eps, n, incAng)\n",
    "\n",
    "\n",
    "# If you want to calculate gradients with respect to kext1, scat1, asym1, or temp1\n",
    "    #Tb_torch.backward()\n"
   ]
  },
  {
   "cell_type": "code",
   "execution_count": 65,
   "metadata": {},
   "outputs": [],
   "source": [
    "for i in range(1000):\n",
    "    kext1 = kext[i,:].copy()\n",
    "    scat1 = scat[i,:].copy()\n",
    "    asym1 = asym[i,:].copy()\n",
    "    temp1 = temp[i,:].copy()\n",
    "    temp_mid = (temp1[:-1] + temp1[1:]) / 2\n",
    "    tb_numpy=tbwrapper_numpy(kext1, scat1, asym1, temp_mid, 0.25, 0.7, 79, 53.0)"
   ]
  },
  {
   "cell_type": "code",
   "execution_count": 61,
   "metadata": {},
   "outputs": [
    {
     "data": {
      "text/plain": [
       "[<matplotlib.lines.Line2D at 0x31efba850>]"
      ]
     },
     "execution_count": 61,
     "metadata": {},
     "output_type": "execute_result"
    },
    {
     "data": {
      "image/png": "[encoded data removed]",
      "text/plain": [
       "<Figure size 640x480 with 1 Axes>"
      ]
     },
     "metadata": {},
     "output_type": "display_data"
    }
   ],
   "source": [
    "plt.plot(kext1_torch.grad)\n",
    "plt.plot(scat1_torch.grad)"
   ]
  },
  {
   "cell_type": "code",
   "execution_count": 5,
   "metadata": {},
   "outputs": [
    {
     "name": "stdout",
     "output_type": "stream",
     "text": [
      "[[1.         0.99944752]\n",
      " [0.99944752 1.        ]]\n"
     ]
    },
    {
     "data": {
      "image/png": "[encoded data removed]",
      "text/plain": [
       "<Figure size 640x480 with 1 Axes>"
      ]
     },
     "metadata": {},
     "output_type": "display_data"
    }
   ],
   "source": [
    "import matplotlib.pyplot as plt\n",
    "#plt.plot(kext1)\n",
    "plt.scatter(tbL,tb[:1000])\n",
    "print(np.corrcoef(tbL,tb[:1000]))\n",
    "#print(B)"
   ]
  }
 ],
 "metadata": {
  "kernelspec": {
   "display_name": "base",
   "language": "python",
   "name": "python3"
  },
  "language_info": {
   "codemirror_mode": {
    "name": "ipython",
    "version": 3
   },
   "file_extension": ".py",
   "mimetype": "text/x-python",
   "name": "python",
   "nbconvert_exporter": "python",
   "pygments_lexer": "ipython3",
   "version": "3.9.undefined"
  }
 },
 "nbformat": 4,
 "nbformat_minor": 2
}
