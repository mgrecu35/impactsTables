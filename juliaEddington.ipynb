{
 "cells": [
  {
   "cell_type": "code",
   "execution_count": 43,
   "metadata": {},
   "outputs": [
    {
     "data": {
      "text/plain": [
       "SetEddington1D (generic function with 1 method)"
      ]
     },
     "execution_count": 43,
     "metadata": {},
     "output_type": "execute_result"
    }
   ],
   "source": [
    "using Zygote\n",
    "function tbf90(I01p, T, incAng, k, a, g, n, eps, dz)\n",
    "    cos1 = cos(incAng / 180.0 * π)\n",
    "    Jup0 = zeros(Float64, n + 1)\n",
    "    Jd0 = zeros(Float64, n + 1)\n",
    "    Jup = Zygote.Buffer(Jup0)\n",
    "    Jd = Zygote.Buffer(Jd0)\n",
    "    intDo0 = zeros(Float64, n + 1)\n",
    "    intUp0 = zeros(Float64, n + 1)\n",
    "    intDo = Zygote.Buffer(intDo0)\n",
    "    intUp = Zygote.Buffer(intUp0)\n",
    "\n",
    "    for k1 in 1:n+1\n",
    "        Jup[k1] = (1 - a[k1]) * T[k1] + a[k1] * (0.5 * (I01p[2*k1-1] + I01p[2*k1+1]) * g[k1] * cos1 + I01p[2*k1])\n",
    "        Jd[k1] = (1 - a[k1]) * T[k1] + a[k1] * (-0.5 * (I01p[2*k1-1] + I01p[2*k1+1]) * g[k1] * cos1 + I01p[2*k1])\n",
    "    end\n",
    "\n",
    "    intDo[1] = k[1] * dz / 2\n",
    "    intUp[n+1] = k[n+1] * dz / 2\n",
    "\n",
    "    for k1 in 1:n\n",
    "        intUp[n+1-k1] = intUp[n-k1+2] + 0.5 * (k[n+1-k1] + k[n+1-k1+1]) * dz\n",
    "    end\n",
    "\n",
    "    for k1 in 2:n+1\n",
    "        intDo[k1] = intDo[k1-1] + 0.5 * (k[k1] + k[k1-1]) * dz\n",
    "    end\n",
    "    sumJD = Float64(0)\n",
    "    sumJU = Float64(0)\n",
    "    #sumJD = \n",
    "    #sumJU = Zygote.Buffer(sumJU0)\n",
    "\n",
    "    for i in 1:n+1\n",
    "        sumJD += Jd[i] * exp(-intDo[i] / cos1) * k[i] * dz / cos1\n",
    "        sumJU += Jup[i] * exp(-intUp[i] / cos1) * k[i] * dz / cos1\n",
    "    end\n",
    "\n",
    "    Tb = (1 - eps) * exp(-intUp[1] / cos1) * sumJD + sumJU + eps * exp(-intUp[1] / cos1) * T[1]\n",
    "    return Tb\n",
    "end\n",
    "\n",
    "function SetEddington1D(T, k, a, g, n, eps, dz, Ts)\n",
    "    #Abig = Zygote.Buffer(zeros(Float64, 2*n+3, 2*n+3))\n",
    "    Abig0 = zeros(Float64, 2*n+3, 2*n+3)\n",
    "    B0 = zeros(Float64, 2*n+3)\n",
    "    Abig = Zygote.Buffer(Abig0)\n",
    "    B = Zygote.Buffer(B0)\n",
    "    for i in 0:n\n",
    "        Abig[2*i+2, 2*i+2] = 3 * k[i+1] * (1 - a[i+1]) * dz\n",
    "        Abig[2*i+2, 2*i+3] = 1\n",
    "        Abig[2*i+2, 2*i+1] = -1\n",
    "        B[2*i+2] = 3 * k[i+1] * (1 - a[i+1]) * T[i+1] * dz\n",
    "\n",
    "        if 2*i+3 < 2*n+3\n",
    "            km = 0.5 * (k[i+1] + k[i+2])\n",
    "            am = 0.5 * (a[i+1] + a[i+2])\n",
    "            gm = 0.5 * (g[i+1] + g[i+2])\n",
    "            Abig[2*i+3, 2*i+3] = km * (1 - am * gm) * dz\n",
    "            Abig[2*i+3, 2*i+4] = 1\n",
    "            Abig[2*i+3, 2*i+2] = -1\n",
    "            B[2*i+3] = 0.0\n",
    "        end\n",
    "    end\n",
    "\n",
    "    Abig[2*n+3, 2*n+2] = 1.0\n",
    "    Abig[2*n+3, 2*n+3] = -1.0 / 3.0\n",
    "    Abig[2*n+3, 2*n+1] = -1.0 / 3.0\n",
    "    B[2*n+3] = 2.7\n",
    "\n",
    "    Abig[1, 1] = (2 - eps) / (3 * eps)\n",
    "    Abig[1, 2] = 1.0\n",
    "    Abig[1, 3] = (2 - eps) / (3 * eps)\n",
    "    B[1] = Ts\n",
    "    return Abig, B\n",
    "end\n"
   ]
  },
  {
   "cell_type": "code",
   "execution_count": 44,
   "metadata": {},
   "outputs": [
    {
     "data": {
      "text/plain": [
       "tbwrapper (generic function with 1 method)"
      ]
     },
     "execution_count": 44,
     "metadata": {},
     "output_type": "execute_result"
    }
   ],
   "source": [
    "\n",
    "function tbwrapper(kext1, scat1, asym1, temp1, dz, eps, n, incAng)\n",
    "    temp_mid = 0.5 * (temp1[1:end-1] + temp1[2:end])\n",
    "    Abig_py, B_py = SetEddington1D(kext1, scat1, asym1, temp_mid, n, eps, dz, temp1[1])\n",
    "    I01p_py = torch.linalg.solve(Abig_py, B_py)\n",
    "    Tb_py = tbf90_py(I01p_py, temp_mid, incAng, kext1, scat1, asym1, n, eps, dz)\n",
    "    return Tb_py\n",
    "end"
   ]
  },
  {
   "cell_type": "code",
   "execution_count": 35,
   "metadata": {},
   "outputs": [
    {
     "data": {
      "text/plain": [
       "45.0"
      ]
     },
     "execution_count": 35,
     "metadata": {},
     "output_type": "execute_result"
    }
   ],
   "source": [
    "using Zygote\n",
    "kext1 = Float64[0.5, 0.6, 0.7, 0.8]\n",
    "scat1 = Float64[0.3, 0.4, 0.5, 0.6]\n",
    "asym1 = Float64[0.1, 0.2, 0.3, 0.4]\n",
    "temp1 = Float64[300.0, 310.0, 320.0, 330.0,330.0]\n",
    "dz = Float64(0.25)\n",
    "eps = Float64(0.9)\n",
    "n = length(kext1) - 1\n",
    "incAng = Float64(45.0)\n",
    "\n"
   ]
  },
  {
   "cell_type": "code",
   "execution_count": 45,
   "metadata": {},
   "outputs": [
    {
     "data": {
      "text/plain": [
       "tbwrapper (generic function with 1 method)"
      ]
     },
     "execution_count": 45,
     "metadata": {},
     "output_type": "execute_result"
    }
   ],
   "source": [
    "#tb_forward=tbwrapper(kext1, scat1, asym1, temp1, dz, eps, n, incAng)\n",
    "function tbwrapper(kext1, scat1, asym1, temp1, dz, eps, n, incAng)\n",
    "    temp_mid = 0.5 * (temp1[1:end-1] + temp1[2:end])\n",
    "    A,B=SetEddington1D(temp_mid, kext1, scat1, asym1, n, eps, dz, temp1[1]);\n",
    "    I01p=A\\B;\n",
    "    Tb_jl=tbf90(I01p, temp1, incAng, kext1, scat1, asym1, n, eps, dz);\n",
    "    return Tb_jl\n",
    "end\n"
   ]
  },
  {
   "cell_type": "code",
   "execution_count": 46,
   "metadata": {},
   "outputs": [
    {
     "ename": "LoadError",
     "evalue": "Mutating arrays is not supported -- called setindex!(Vector{Float64}, ...)\nThis error occurs when you ask Zygote to differentiate operations that change\nthe elements of arrays in place (e.g. setting values with x .= ...)\n\nPossible fixes:\n- avoid mutating operations (preferred)\n- or read the documentation and solutions for this error\n  https://fluxml.ai/Zygote.jl/latest/limitations\n",
     "output_type": "error",
     "traceback": [
      "Mutating arrays is not supported -- called setindex!(Vector{Float64}, ...)\nThis error occurs when you ask Zygote to differentiate operations that change\nthe elements of arrays in place (e.g. setting values with x .= ...)\n\nPossible fixes:\n- avoid mutating operations (preferred)\n- or read the documentation and solutions for this error\n  https://fluxml.ai/Zygote.jl/latest/limitations\n",
      "",
      "Stacktrace:",
      "  [1] error(s::String)",
      "    @ Base ./error.jl:35",
      "  [2] _throw_mutation_error(f::Function, args::Vector{Float64})",
      "    @ Zygote ~/.julia/packages/Zygote/nsBv0/src/lib/array.jl:70",
      "  [3] (::Zygote.var\"#539#540\"{Vector{Float64}})(::Nothing)",
      "    @ Zygote ~/.julia/packages/Zygote/nsBv0/src/lib/array.jl:82",
      "  [4] (::Zygote.var\"#2623#back#541\"{Zygote.var\"#539#540\"{Vector{Float64}}})(Δ::Nothing)",
      "    @ Zygote ~/.julia/packages/ZygoteRules/M4xmc/src/adjoint.jl:72",
      "  [5] SetEddington1D",
      "    @ ./In[43]:72 [inlined]",
      "  [6] (::Zygote.Pullback{Tuple{typeof(SetEddington1D), Vector{Float64}, Vector{Float64}, Vector{Float64}, Vector{Float64}, Int64, Float64, Float64, Float64}, Any})(Δ::Tuple{Matrix{Float64}, Vector{Float64}})",
      "    @ Zygote ~/.julia/packages/Zygote/nsBv0/src/compiler/interface2.jl:0",
      "  [7] tbwrapper",
      "    @ ./In[45]:4 [inlined]",
      "  [8] (::Zygote.Pullback{Tuple{typeof(tbwrapper), Vector{Float64}, Vector{Float64}, Vector{Float64}, Vector{Float64}, Float64, Float64, Int64, Float64}, Tuple{Zygote.ZBack{ChainRules.var\"#getindex_pullback#666\"{Vector{Float64}, Tuple{UnitRange{Int64}}, Tuple{ChainRulesCore.NoTangent}}}, Zygote.var\"#3583#back#1084\"{Zygote.var\"#1080#1083\"}, Zygote.var\"#2029#back#213\"{Zygote.var\"#back#211\"{2, 1, Zygote.Context{false}, Matrix{Float64}}}, Zygote.var\"#2029#back#213\"{Zygote.var\"#back#211\"{2, 1, Zygote.Context{false}, Vector{Float64}}}, Zygote.ZBack{ChainRules.var\"#times_pullback#567\"{Float64, Vector{Float64}, ChainRulesCore.ProjectTo{AbstractArray, @NamedTuple{element::ChainRulesCore.ProjectTo{Float64, @NamedTuple{}}, axes::Tuple{Base.OneTo{Int64}}}}, ChainRulesCore.ProjectTo{Float64, @NamedTuple{}}}}, Zygote.Pullback{Tuple{typeof(tbf90), Vector{Float64}, Vector{Float64}, Float64, Vector{Float64}, Vector{Float64}, Vector{Float64}, Int64, Float64, Float64}, Any}, Zygote.Pullback{Tuple{typeof(lastindex), Vector{Float64}}, Tuple{Zygote.Pullback{Tuple{Type{IndexLinear}}, Tuple{}}, Zygote.Pullback{Tuple{typeof(last), Base.OneTo{Int64}}, Tuple{Zygote.ZBack{Zygote.var\"#convert_pullback#330\"}, Zygote.var\"#2180#back#303\"{Zygote.var\"#back#302\"{:stop, Zygote.Context{false}, Base.OneTo{Int64}, Int64}}}}, Zygote.ZBack{Returns{Tuple{ChainRulesCore.NoTangent, ChainRulesCore.NoTangent, ChainRulesCore.NoTangent}}}}}, Zygote.ZBack{Returns{Tuple{ChainRulesCore.NoTangent, ChainRulesCore.NoTangent, ChainRulesCore.NoTangent}}}, Zygote.var\"#back#245\"{Zygote.var\"#2029#back#213\"{Zygote.var\"#back#211\"{2, 1, Zygote.Context{false}, Matrix{Float64}}}}, Zygote.var\"#3197#back#876\"{Zygote.var\"#872#875\"{Matrix{Float64}, Vector{Float64}, Vector{Float64}}}, Zygote.Pullback{Tuple{typeof(SetEddington1D), Vector{Float64}, Vector{Float64}, Vector{Float64}, Vector{Float64}, Int64, Float64, Float64, Float64}, Any}, Zygote.Pullback{Tuple{typeof(Zygote.literal_getindex), Vector{Float64}, Val{1}}, Tuple{Zygote.ZBack{ChainRules.var\"#getindex_pullback#666\"{Vector{Float64}, Tuple{Int64}, Tuple{ChainRulesCore.NoTangent}}}}}, Zygote.ZBack{ChainRules.var\"#getindex_pullback#666\"{Vector{Float64}, Tuple{UnitRange{Int64}}, Tuple{ChainRulesCore.NoTangent}}}, Zygote.var\"#back#246\"{Zygote.var\"#2029#back#213\"{Zygote.var\"#back#211\"{2, 2, Zygote.Context{false}, Vector{Float64}}}}, Zygote.ZBack{Returns{Tuple{ChainRulesCore.NoTangent, ChainRulesCore.NoTangent, ChainRulesCore.NoTangent}}}, Zygote.ZBack{ChainRules.var\"#-_pullback#408\"{Int64, Bool, ChainRulesCore.ProjectTo{Float64, @NamedTuple{}}, ChainRulesCore.ProjectTo{Float64, @NamedTuple{}}}}, Zygote.Pullback{Tuple{typeof(lastindex), Vector{Float64}}, Tuple{Zygote.Pullback{Tuple{Type{IndexLinear}}, Tuple{}}, Zygote.Pullback{Tuple{typeof(last), Base.OneTo{Int64}}, Tuple{Zygote.ZBack{Zygote.var\"#convert_pullback#330\"}, Zygote.var\"#2180#back#303\"{Zygote.var\"#back#302\"{:stop, Zygote.Context{false}, Base.OneTo{Int64}, Int64}}}}, Zygote.ZBack{Returns{Tuple{ChainRulesCore.NoTangent, ChainRulesCore.NoTangent, ChainRulesCore.NoTangent}}}}}, Zygote.var\"#2029#back#213\"{Zygote.var\"#back#211\"{2, 2, Zygote.Context{false}, Int64}}}})(Δ::Float64)",
      "    @ Zygote ~/.julia/packages/Zygote/nsBv0/src/compiler/interface2.jl:0",
      "  [9] #22",
      "    @ ./In[46]:2 [inlined]",
      " [10] (::Zygote.Pullback{Tuple{var\"#22#23\", Vector{Float64}, Vector{Float64}, Vector{Float64}, Vector{Float64}, Float64}, Tuple{Zygote.var\"#1986#back#194\"{Zygote.var\"#190#193\"{Zygote.Context{false}, GlobalRef, Float64}}, Zygote.var\"#1986#back#194\"{Zygote.var\"#190#193\"{Zygote.Context{false}, GlobalRef, Float64}}, Zygote.Pullback{Tuple{typeof(tbwrapper), Vector{Float64}, Vector{Float64}, Vector{Float64}, Vector{Float64}, Float64, Float64, Int64, Float64}, Tuple{Zygote.ZBack{ChainRules.var\"#getindex_pullback#666\"{Vector{Float64}, Tuple{UnitRange{Int64}}, Tuple{ChainRulesCore.NoTangent}}}, Zygote.var\"#3583#back#1084\"{Zygote.var\"#1080#1083\"}, Zygote.var\"#2029#back#213\"{Zygote.var\"#back#211\"{2, 1, Zygote.Context{false}, Matrix{Float64}}}, Zygote.var\"#2029#back#213\"{Zygote.var\"#back#211\"{2, 1, Zygote.Context{false}, Vector{Float64}}}, Zygote.ZBack{ChainRules.var\"#times_pullback#567\"{Float64, Vector{Float64}, ChainRulesCore.ProjectTo{AbstractArray, @NamedTuple{element::ChainRulesCore.ProjectTo{Float64, @NamedTuple{}}, axes::Tuple{Base.OneTo{Int64}}}}, ChainRulesCore.ProjectTo{Float64, @NamedTuple{}}}}, Zygote.Pullback{Tuple{typeof(tbf90), Vector{Float64}, Vector{Float64}, Float64, Vector{Float64}, Vector{Float64}, Vector{Float64}, Int64, Float64, Float64}, Any}, Zygote.Pullback{Tuple{typeof(lastindex), Vector{Float64}}, Tuple{Zygote.Pullback{Tuple{Type{IndexLinear}}, Tuple{}}, Zygote.Pullback{Tuple{typeof(last), Base.OneTo{Int64}}, Tuple{Zygote.ZBack{Zygote.var\"#convert_pullback#330\"}, Zygote.var\"#2180#back#303\"{Zygote.var\"#back#302\"{:stop, Zygote.Context{false}, Base.OneTo{Int64}, Int64}}}}, Zygote.ZBack{Returns{Tuple{ChainRulesCore.NoTangent, ChainRulesCore.NoTangent, ChainRulesCore.NoTangent}}}}}, Zygote.ZBack{Returns{Tuple{ChainRulesCore.NoTangent, ChainRulesCore.NoTangent, ChainRulesCore.NoTangent}}}, Zygote.var\"#back#245\"{Zygote.var\"#2029#back#213\"{Zygote.var\"#back#211\"{2, 1, Zygote.Context{false}, Matrix{Float64}}}}, Zygote.var\"#3197#back#876\"{Zygote.var\"#872#875\"{Matrix{Float64}, Vector{Float64}, Vector{Float64}}}, Zygote.Pullback{Tuple{typeof(SetEddington1D), Vector{Float64}, Vector{Float64}, Vector{Float64}, Vector{Float64}, Int64, Float64, Float64, Float64}, Any}, Zygote.Pullback{Tuple{typeof(Zygote.literal_getindex), Vector{Float64}, Val{1}}, Tuple{Zygote.ZBack{ChainRules.var\"#getindex_pullback#666\"{Vector{Float64}, Tuple{Int64}, Tuple{ChainRulesCore.NoTangent}}}}}, Zygote.ZBack{ChainRules.var\"#getindex_pullback#666\"{Vector{Float64}, Tuple{UnitRange{Int64}}, Tuple{ChainRulesCore.NoTangent}}}, Zygote.var\"#back#246\"{Zygote.var\"#2029#back#213\"{Zygote.var\"#back#211\"{2, 2, Zygote.Context{false}, Vector{Float64}}}}, Zygote.ZBack{Returns{Tuple{ChainRulesCore.NoTangent, ChainRulesCore.NoTangent, ChainRulesCore.NoTangent}}}, Zygote.ZBack{ChainRules.var\"#-_pullback#408\"{Int64, Bool, ChainRulesCore.ProjectTo{Float64, @NamedTuple{}}, ChainRulesCore.ProjectTo{Float64, @NamedTuple{}}}}, Zygote.Pullback{Tuple{typeof(lastindex), Vector{Float64}}, Tuple{Zygote.Pullback{Tuple{Type{IndexLinear}}, Tuple{}}, Zygote.Pullback{Tuple{typeof(last), Base.OneTo{Int64}}, Tuple{Zygote.ZBack{Zygote.var\"#convert_pullback#330\"}, Zygote.var\"#2180#back#303\"{Zygote.var\"#back#302\"{:stop, Zygote.Context{false}, Base.OneTo{Int64}, Int64}}}}, Zygote.ZBack{Returns{Tuple{ChainRulesCore.NoTangent, ChainRulesCore.NoTangent, ChainRulesCore.NoTangent}}}}}, Zygote.var\"#2029#back#213\"{Zygote.var\"#back#211\"{2, 2, Zygote.Context{false}, Int64}}}}, Zygote.var\"#1986#back#194\"{Zygote.var\"#190#193\"{Zygote.Context{false}, GlobalRef, Int64}}}})(Δ::Float64)",
      "    @ Zygote ~/.julia/packages/Zygote/nsBv0/src/compiler/interface2.jl:0",
      " [11] (::Zygote.var\"#75#76\"{Zygote.Pullback{Tuple{var\"#22#23\", Vector{Float64}, Vector{Float64}, Vector{Float64}, Vector{Float64}, Float64}, Tuple{Zygote.var\"#1986#back#194\"{Zygote.var\"#190#193\"{Zygote.Context{false}, GlobalRef, Float64}}, Zygote.var\"#1986#back#194\"{Zygote.var\"#190#193\"{Zygote.Context{false}, GlobalRef, Float64}}, Zygote.Pullback{Tuple{typeof(tbwrapper), Vector{Float64}, Vector{Float64}, Vector{Float64}, Vector{Float64}, Float64, Float64, Int64, Float64}, Tuple{Zygote.ZBack{ChainRules.var\"#getindex_pullback#666\"{Vector{Float64}, Tuple{UnitRange{Int64}}, Tuple{ChainRulesCore.NoTangent}}}, Zygote.var\"#3583#back#1084\"{Zygote.var\"#1080#1083\"}, Zygote.var\"#2029#back#213\"{Zygote.var\"#back#211\"{2, 1, Zygote.Context{false}, Matrix{Float64}}}, Zygote.var\"#2029#back#213\"{Zygote.var\"#back#211\"{2, 1, Zygote.Context{false}, Vector{Float64}}}, Zygote.ZBack{ChainRules.var\"#times_pullback#567\"{Float64, Vector{Float64}, ChainRulesCore.ProjectTo{AbstractArray, @NamedTuple{element::ChainRulesCore.ProjectTo{Float64, @NamedTuple{}}, axes::Tuple{Base.OneTo{Int64}}}}, ChainRulesCore.ProjectTo{Float64, @NamedTuple{}}}}, Zygote.Pullback{Tuple{typeof(tbf90), Vector{Float64}, Vector{Float64}, Float64, Vector{Float64}, Vector{Float64}, Vector{Float64}, Int64, Float64, Float64}, Any}, Zygote.Pullback{Tuple{typeof(lastindex), Vector{Float64}}, Tuple{Zygote.Pullback{Tuple{Type{IndexLinear}}, Tuple{}}, Zygote.Pullback{Tuple{typeof(last), Base.OneTo{Int64}}, Tuple{Zygote.ZBack{Zygote.var\"#convert_pullback#330\"}, Zygote.var\"#2180#back#303\"{Zygote.var\"#back#302\"{:stop, Zygote.Context{false}, Base.OneTo{Int64}, Int64}}}}, Zygote.ZBack{Returns{Tuple{ChainRulesCore.NoTangent, ChainRulesCore.NoTangent, ChainRulesCore.NoTangent}}}}}, Zygote.ZBack{Returns{Tuple{ChainRulesCore.NoTangent, ChainRulesCore.NoTangent, ChainRulesCore.NoTangent}}}, Zygote.var\"#back#245\"{Zygote.var\"#2029#back#213\"{Zygote.var\"#back#211\"{2, 1, Zygote.Context{false}, Matrix{Float64}}}}, Zygote.var\"#3197#back#876\"{Zygote.var\"#872#875\"{Matrix{Float64}, Vector{Float64}, Vector{Float64}}}, Zygote.Pullback{Tuple{typeof(SetEddington1D), Vector{Float64}, Vector{Float64}, Vector{Float64}, Vector{Float64}, Int64, Float64, Float64, Float64}, Any}, Zygote.Pullback{Tuple{typeof(Zygote.literal_getindex), Vector{Float64}, Val{1}}, Tuple{Zygote.ZBack{ChainRules.var\"#getindex_pullback#666\"{Vector{Float64}, Tuple{Int64}, Tuple{ChainRulesCore.NoTangent}}}}}, Zygote.ZBack{ChainRules.var\"#getindex_pullback#666\"{Vector{Float64}, Tuple{UnitRange{Int64}}, Tuple{ChainRulesCore.NoTangent}}}, Zygote.var\"#back#246\"{Zygote.var\"#2029#back#213\"{Zygote.var\"#back#211\"{2, 2, Zygote.Context{false}, Vector{Float64}}}}, Zygote.ZBack{Returns{Tuple{ChainRulesCore.NoTangent, ChainRulesCore.NoTangent, ChainRulesCore.NoTangent}}}, Zygote.ZBack{ChainRules.var\"#-_pullback#408\"{Int64, Bool, ChainRulesCore.ProjectTo{Float64, @NamedTuple{}}, ChainRulesCore.ProjectTo{Float64, @NamedTuple{}}}}, Zygote.Pullback{Tuple{typeof(lastindex), Vector{Float64}}, Tuple{Zygote.Pullback{Tuple{Type{IndexLinear}}, Tuple{}}, Zygote.Pullback{Tuple{typeof(last), Base.OneTo{Int64}}, Tuple{Zygote.ZBack{Zygote.var\"#convert_pullback#330\"}, Zygote.var\"#2180#back#303\"{Zygote.var\"#back#302\"{:stop, Zygote.Context{false}, Base.OneTo{Int64}, Int64}}}}, Zygote.ZBack{Returns{Tuple{ChainRulesCore.NoTangent, ChainRulesCore.NoTangent, ChainRulesCore.NoTangent}}}}}, Zygote.var\"#2029#back#213\"{Zygote.var\"#back#211\"{2, 2, Zygote.Context{false}, Int64}}}}, Zygote.var\"#1986#back#194\"{Zygote.var\"#190#193\"{Zygote.Context{false}, GlobalRef, Int64}}}}})(Δ::Float64)",
      "    @ Zygote ~/.julia/packages/Zygote/nsBv0/src/compiler/interface.jl:91",
      " [12] gradient(::Function, ::Vector{Float64}, ::Vararg{Any})",
      "    @ Zygote ~/.julia/packages/Zygote/nsBv0/src/compiler/interface.jl:148",
      " [13] top-level scope",
      "    @ In[46]:2"
     ]
    }
   ],
   "source": [
    "tb_forward=tbwrapper(kext1, scat1, asym1, temp1, dz, eps, n, incAng)\n",
    "grad = Zygote.gradient((kext1, scat1, asym1, temp1, eps) -> tbwrapper(kext1, scat1, asym1, temp1, dz, eps, n, incAng), kext1, scat1, asym1, temp1, eps)\n",
    "\n"
   ]
  },
  {
   "cell_type": "code",
   "execution_count": 31,
   "metadata": {},
   "outputs": [
    {
     "name": "stdout",
     "output_type": "stream",
     "text": [
      "Vector{Float64}\n",
      "Vector{Float64}\n",
      "Float64\n",
      "Vector{Float64}\n",
      "Vector{Float64}\n",
      "Vector{Float64}\n",
      "Float64\n"
     ]
    },
    {
     "data": {
      "text/plain": [
       "([0.0007421181520280422, 0.025220422555734454, 0.00372028866073439, 0.04768987514482673, 0.01137589400917483, 0.08563218592155354, 0.028752316454698786, 0.15072216100757765, 0.020354592954230307], [0.4509583908793771, 0.07153481271724008, 0.08563218592155354, 0.10048144067171845, 0.0], [18.81322314838421, -3.9899222007523854, -5.860094151808049, -9.127123189671082], [-6.8641281521109505, -11.523337430528308, -19.16202519308969, -31.871893045153705], [1.6030832475467638, 4.057293728796677, 9.630742497056513, 21.77468111473663], 68.54896327058623)"
      ]
     },
     "execution_count": 31,
     "metadata": {},
     "output_type": "execute_result"
    }
   ],
   "source": [
    "#incAng, k, a, g, n, eps, dz\n",
    "#calculate of the gradient of Tb with respect to kext1, scat1, asym1, temp1, eps, I01p\n",
    "temp_mid = 0.5 * (temp1[1:end-1] + temp1[2:end])\n",
    "A,B=SetEddington1D(temp_mid, kext1, scat1, asym1, n, eps, dz, temp1[1]);\n",
    "I01p=A\\B;\n",
    "Tb_jl=tbf90(I01p, temp1, incAng, kext1, scat1, asym1, n, eps, dz);\n",
    "println(typeof(I01p))\n",
    "println(typeof(temp1))\n",
    "println(typeof(incAng))\n",
    "println(typeof(kext1))\n",
    "println(typeof(scat1))\n",
    "println(typeof(asym1))\n",
    "println(typeof(eps))\n",
    "grad = Zygote.gradient((I01p, temp1, kext1, scat1, asym1, eps) -> tbf90(I01p, temp1, incAng, kext1, scat1, asym1, n, eps, dz), I01p, temp1, kext1, scat1, asym1, eps)"
   ]
  },
  {
   "cell_type": "code",
   "execution_count": 2,
   "metadata": {},
   "outputs": [],
   "source": [
    "using PyCall"
   ]
  }
 ],
 "metadata": {
  "kernelspec": {
   "display_name": "Julia 1.10.4",
   "language": "julia",
   "name": "julia-1.10"
  },
  "language_info": {
   "file_extension": ".jl",
   "mimetype": "application/julia",
   "name": "julia",
   "version": "1.10.4"
  }
 },
 "nbformat": 4,
 "nbformat_minor": 4
}
