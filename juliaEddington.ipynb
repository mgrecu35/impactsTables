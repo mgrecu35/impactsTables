{
 "cells": [
  {
   "cell_type": "code",
   "execution_count": 159,
   "metadata": {},
   "outputs": [
    {
     "data": {
      "text/plain": [
       "SetEddington1D_nobuffer (generic function with 1 method)"
      ]
     },
     "execution_count": 159,
     "metadata": {},
     "output_type": "execute_result"
    }
   ],
   "source": [
    "using Zygote\n",
    "function tbf90(I01p, T, incAng, k, a, g, n, eps, dz)\n",
    "    cos1 = cos(incAng / 180.0 * π)\n",
    "    Jup0 = zeros(Float64, n + 1)\n",
    "    Jd0 = zeros(Float64, n + 1)\n",
    "    Jup = (Jup0)\n",
    "    Jd = (Jd0)\n",
    "    intDo0 = zeros(Float64, n + 1)\n",
    "    intUp0 = zeros(Float64, n + 1)\n",
    "    intDo = (intDo0)\n",
    "    intUp = (intUp0)\n",
    "\n",
    "    for k1 in 1:n+1\n",
    "        Jup[k1] = (1 - a[k1]) * T[k1] + a[k1] * (0.5 * (I01p[2*k1-1] + I01p[2*k1+1]) * g[k1] * cos1 + I01p[2*k1])\n",
    "        Jd[k1] = (1 - a[k1]) * T[k1] + a[k1] * (-0.5 * (I01p[2*k1-1] + I01p[2*k1+1]) * g[k1] * cos1 + I01p[2*k1])\n",
    "    end\n",
    "\n",
    "    intDo[1] = k[1] * dz / 2\n",
    "    intUp[n+1] = k[n+1] * dz / 2\n",
    "\n",
    "    for k1 in 1:n\n",
    "        intUp[n+1-k1] = intUp[n-k1+2] + 0.5 * (k[n+1-k1] + k[n+1-k1+1]) * dz\n",
    "    end\n",
    "\n",
    "    for k1 in 2:n+1\n",
    "        intDo[k1] = intDo[k1-1] + 0.5 * (k[k1] + k[k1-1]) * dz\n",
    "    end\n",
    "    sumJD = Float64(0)\n",
    "    sumJU = Float64(0)\n",
    "    #sumJD = \n",
    "    #sumJU = Zygote.Buffer(sumJU0)\n",
    "\n",
    "    for i in 1:n+1\n",
    "        sumJD += Jd[i] * exp(-intDo[i] / cos1) * k[i] * dz / cos1\n",
    "        sumJU += Jup[i] * exp(-intUp[i] / cos1) * k[i] * dz / cos1\n",
    "    end\n",
    "\n",
    "    Tb = (1 - eps) * exp(-intUp[1] / cos1) * sumJD + sumJU + eps * exp(-intUp[1] / cos1) * T[1]\n",
    "    return Tb\n",
    "end\n",
    "\n",
    "function SetEddington1D(T, k, a, g, n, eps, dz, Ts)\n",
    "    Abig0 = zeros(Float64, 2*n+3, 2*n+3)\n",
    "    B0 = zeros(Float64, 2*n+3)\n",
    "    Abig = Zygote.Buffer(Abig0)\n",
    "    B = Zygote.Buffer(B0)\n",
    " \n",
    "    for i in 0:n\n",
    "        Abig[2*i+2, 2*i+2] = 3 * k[i+1] * (1 - a[i+1]) * dz\n",
    "        Abig[2*i+2, 2*i+3] = 1\n",
    "        Abig[2*i+2, 2*i+1] = -1\n",
    "        B[2*i+2] = 3 * k[i+1] * (1 - a[i+1]) * T[i+1] * dz\n",
    "\n",
    "        if 2*i+3 < 2*n+3\n",
    "            km = 0.5 * (k[i+1] + k[i+2])\n",
    "            am = 0.5 * (a[i+1] + a[i+2])\n",
    "            gm = 0.5 * (g[i+1] + g[i+2])\n",
    "            Abig[2*i+3, 2*i+3] = km * (1 - am * gm) * dz\n",
    "            Abig[2*i+3, 2*i+4] = 1\n",
    "            Abig[2*i+3, 2*i+2] = -1\n",
    "            B[2*i+3] = 0.0\n",
    "        end\n",
    "    end\n",
    "\n",
    "    Abig[2*n+3, 2*n+2] = 1.0\n",
    "    Abig[2*n+3, 2*n+3] = -1.0 / 3.0\n",
    "    Abig[2*n+3, 2*n+1] = -1.0 / 3.0\n",
    "    B[2*n+3] = 2.7\n",
    "\n",
    "    Abig[1, 1] = (2 - eps) / (3 * eps)\n",
    "    Abig[1, 2] = 1.0\n",
    "    Abig[1, 3] = (2 - eps) / (3 * eps)\n",
    "    B[1] = Ts\n",
    "    Abig=copy(Abig)\n",
    "    B=copy(B)\n",
    "    return Abig, B \n",
    "end\n",
    "\n",
    "\n",
    "function SetEddington1D_nobuffer(T, k, a, g, n, eps, dz, Ts)\n",
    "    #Abig = Zygote.Buffer(zeros(Float64, 2*n+3, 2*n+3))\n",
    "    Abig0 = zeros(Float64, 2*n+3, 2*n+3)\n",
    "    B0 = zeros(Float64, 2*n+3)\n",
    "    Abig = (Abig0)\n",
    "    B = (B0)\n",
    "    #Zygote.Buffer()\n",
    "    for i in 0:n\n",
    "        Abig[2*i+2, 2*i+2] = 3 * k[i+1] * (1 - a[i+1]) * dz\n",
    "        Abig[2*i+2, 2*i+3] = 1\n",
    "        Abig[2*i+2, 2*i+1] = -1\n",
    "        B[2*i+2] = 3 * k[i+1] * (1 - a[i+1]) * T[i+1] * dz\n",
    "\n",
    "        if 2*i+3 < 2*n+3\n",
    "            km = 0.5 * (k[i+1] + k[i+2])\n",
    "            am = 0.5 * (a[i+1] + a[i+2])\n",
    "            gm = 0.5 * (g[i+1] + g[i+2])\n",
    "            Abig[2*i+3, 2*i+3] = km * (1 - am * gm) * dz\n",
    "            Abig[2*i+3, 2*i+4] = 1\n",
    "            Abig[2*i+3, 2*i+2] = -1\n",
    "            B[2*i+3] = 0.0\n",
    "        end\n",
    "    end\n",
    "\n",
    "    Abig[2*n+3, 2*n+2] = 1.0\n",
    "    Abig[2*n+3, 2*n+3] = -1.0 / 3.0\n",
    "    Abig[2*n+3, 2*n+1] = -1.0 / 3.0\n",
    "    B[2*n+3] = 2.7\n",
    "\n",
    "    Abig[1, 1] = (2 - eps) / (3 * eps)\n",
    "    Abig[1, 2] = 1.0\n",
    "    Abig[1, 3] = (2 - eps) / (3 * eps)\n",
    "    B[1] = Ts\n",
    "    return copy(Abig), copy(B)\n",
    "end\n"
   ]
  },
  {
   "cell_type": "code",
   "execution_count": 35,
   "metadata": {},
   "outputs": [
    {
     "data": {
      "text/plain": [
       "45.0"
      ]
     },
     "execution_count": 35,
     "metadata": {},
     "output_type": "execute_result"
    }
   ],
   "source": [
    "using Zygote\n",
    "kext1 = Float64[0.5, 0.6, 0.7, 0.8]\n",
    "scat1 = Float64[0.3, 0.4, 0.5, 0.6]\n",
    "asym1 = Float64[0.1, 0.2, 0.3, 0.4]\n",
    "temp1 = Float64[300.0, 310.0, 320.0, 330.0,330.0]\n",
    "dz = Float64(0.25)\n",
    "eps = Float64(0.9)\n",
    "n = length(kext1) - 1\n",
    "incAng = Float64(45.0)\n",
    "\n"
   ]
  },
  {
   "cell_type": "code",
   "execution_count": 105,
   "metadata": {},
   "outputs": [
    {
     "data": {
      "text/plain": [
       "tbwrapper (generic function with 1 method)"
      ]
     },
     "execution_count": 105,
     "metadata": {},
     "output_type": "execute_result"
    }
   ],
   "source": [
    "#tb_forward=tbwrapper(kext1, scat1, asym1, temp1, dz, eps, n, incAng)\n",
    "function tbwrapper_nobuffer(kext1, scat1, asym1, temp1, dz, eps, n, incAng)\n",
    "    temp_mid = 0.5 * (temp1[1:end-1] + temp1[2:end])\n",
    "    A,B=SetEddington1D_nobuffer(temp_mid, kext1, scat1, asym1, n, eps, dz, temp1[1]);\n",
    "    I01p=A\\B;\n",
    "    Tb_jl=tbf90(I01p, temp1, incAng, kext1, scat1, asym1, n, eps, dz);\n",
    "    return Tb_jl\n",
    "end\n",
    "\n",
    "function tbwrapper(kext1, scat1, asym1, temp1, dz, eps, n, incAng)\n",
    "    temp_mid = 0.5 * (temp1[1:end-1] + temp1[2:end])\n",
    "    A,B=SetEddington1D(temp_mid, kext1, scat1, asym1, n, eps, dz, temp1[1]);\n",
    "    I01p=A\\B;\n",
    "    Tb_jl=tbf90(I01p, temp1, incAng, kext1, scat1, asym1, n, eps, dz);\n",
    "    return Tb_jl\n",
    "end"
   ]
  },
  {
   "cell_type": "code",
   "execution_count": 147,
   "metadata": {},
   "outputs": [
    {
     "data": {
      "text/plain": [
       "1920.143929510474"
      ]
     },
     "execution_count": 147,
     "metadata": {},
     "output_type": "execute_result"
    }
   ],
   "source": [
    "tb_forward=tbwrapper(kext1, scat1, asym1, temp1, dz, eps, n, incAng)\n",
    "#@time grad = Zygote.gradient((kext1, scat1, asym1, temp1, eps) -> tbwrapper(kext1, scat1, asym1, temp1, dz, eps, n, incAng), kext1, scat1, asym1, temp1, eps);\n",
    "\n"
   ]
  },
  {
   "cell_type": "code",
   "execution_count": 31,
   "metadata": {},
   "outputs": [
    {
     "name": "stdout",
     "output_type": "stream",
     "text": [
      "Vector{Float64}\n",
      "Vector{Float64}\n",
      "Float64\n",
      "Vector{Float64}\n",
      "Vector{Float64}\n",
      "Vector{Float64}\n",
      "Float64\n"
     ]
    },
    {
     "data": {
      "text/plain": [
       "([0.0007421181520280422, 0.025220422555734454, 0.00372028866073439, 0.04768987514482673, 0.01137589400917483, 0.08563218592155354, 0.028752316454698786, 0.15072216100757765, 0.020354592954230307], [0.4509583908793771, 0.07153481271724008, 0.08563218592155354, 0.10048144067171845, 0.0], [18.81322314838421, -3.9899222007523854, -5.860094151808049, -9.127123189671082], [-6.8641281521109505, -11.523337430528308, -19.16202519308969, -31.871893045153705], [1.6030832475467638, 4.057293728796677, 9.630742497056513, 21.77468111473663], 68.54896327058623)"
      ]
     },
     "execution_count": 31,
     "metadata": {},
     "output_type": "execute_result"
    }
   ],
   "source": [
    "#incAng, k, a, g, n, eps, dz\n",
    "#calculate of the gradient of Tb with respect to kext1, scat1, asym1, temp1, eps, I01p\n",
    "temp_mid = 0.5 * (temp1[1:end-1] + temp1[2:end])\n",
    "A,B=SetEddington1D(temp_mid, kext1, scat1, asym1, n, eps, dz, temp1[1]);\n",
    "I01p=A\\B;\n",
    "Tb_jl=tbf90(I01p, temp1, incAng, kext1, scat1, asym1, n, eps, dz);\n",
    "println(typeof(I01p))\n",
    "println(typeof(temp1))\n",
    "println(typeof(incAng))\n",
    "println(typeof(kext1))\n",
    "println(typeof(scat1))\n",
    "println(typeof(asym1))\n",
    "println(typeof(eps))\n",
    "grad = Zygote.gradient((I01p, temp1, kext1, scat1, asym1, eps) -> tbf90(I01p, temp1, incAng, kext1, scat1, asym1, n, eps, dz), I01p, temp1, kext1, scat1, asym1, eps)"
   ]
  },
  {
   "cell_type": "code",
   "execution_count": 63,
   "metadata": {},
   "outputs": [],
   "source": [
    "using PyCall"
   ]
  },
  {
   "cell_type": "code",
   "execution_count": 148,
   "metadata": {},
   "outputs": [
    {
     "name": "stdout",
     "output_type": "stream",
     "text": [
      "  0.484004 seconds (50.87 k allocations: 613.447 MiB, 2.71% gc time)\n"
     ]
    }
   ],
   "source": [
    "# add the current directory to the python path\n",
    "pushfirst!(PyVector(pyimport(\"sys\")[\"path\"]), \"\")\n",
    "read_rte_data=pyimport(\"read_rte_data\")\n",
    "kext, scat, asym, temp, tb_eddgn=read_rte_data.read_data();\n",
    "\n",
    "@time for i in 1:1000\n",
    "    kext1=Float64.(kext[i,:])\n",
    "    scat1=Float64.(scat[i,:])\n",
    "    asym1=Float64.(asym[i,:])\n",
    "    temp1=Float64.(temp[i,:])\n",
    "    temp_mid = 0.5 * (temp1[1:end-1] + temp1[2:end])\n",
    "    n = length(kext1) - 1\n",
    "    A,B=SetEddington1D_nobuffer(temp_mid, kext1, scat1, asym1, n, eps, dz, temp1[1]);\n",
    "    #print(\"$i \")\n",
    "    I01p=A\\B;\n",
    "    Tb_jl=tbf90(I01p, temp1, incAng, kext1, scat1, asym1, n, eps, dz);\n",
    "    #grad = Zygote.gradient((kext1, scat1, asym1, temp1, eps) -> tbwrapper(kext1, scat1, asym1, temp1, dz, eps, n, incAng), kext1, scat1, asym1, temp1, eps);\n",
    "end"
   ]
  },
  {
   "cell_type": "code",
   "execution_count": 129,
   "metadata": {},
   "outputs": [
    {
     "name": "stdout",
     "output_type": "stream",
     "text": [
      "266.0104434246324\n",
      "484.8569459632107\n"
     ]
    }
   ],
   "source": [
    "i=1\n",
    "kext1=Float64.(kext[i,:])\n",
    "scat1=Float64.(scat[i,:])\n",
    "asym1=Float64.(asym[i,:])\n",
    "temp1=Float64.(temp[i,:])\n",
    "temp_mid = 0.5 * (temp1[1:end-1] + temp1[2:end])\n",
    "n = length(kext1) - 1\n",
    "A,B=SetEddington1D_nobuffer(temp_mid, kext1, scat1, asym1, n, eps, dz, temp1[1]);\n",
    "Ab,Bb=SetEddington1D(temp_mid, kext1, scat1, asym1, n, eps, dz, temp1[1]);\n",
    "#tb_jl=tbwrapper_nobuffer(kext1, scat1, asym1, temp1, dz, eps, n, incAng)\n",
    "#tb_jl1=tbwrapper(kext1, scat1, asym1, temp1, dz, eps, n, incAng)\n",
    "I01p=A\\B;\n",
    "I01p1=Ab\\Bb;\n",
    "Tb_jl_2=tbf90(I01p, temp1, incAng, kext1, scat1, asym1, n, eps, dz);\n",
    "Tb_jl_21=tbf90(I01p1, temp1, incAng, kext1, scat1, asym1, n, eps, dz);\n",
    "println(Tb_jl_2)\n",
    "println(Tb_jl_21)"
   ]
  },
  {
   "cell_type": "code",
   "execution_count": 120,
   "metadata": {},
   "outputs": [],
   "source": [
    "plt=pyimport(\"matplotlib.pyplot\")\n",
    "plt.scatter(I01p,I01p1)\n",
    "plt.show()"
   ]
  },
  {
   "cell_type": "code",
   "execution_count": null,
   "metadata": {},
   "outputs": [],
   "source": []
  },
  {
   "cell_type": "code",
   "execution_count": 142,
   "metadata": {},
   "outputs": [
    {
     "data": {
      "text/plain": [
       "TBF90_B_clean (generic function with 1 method)"
      ]
     },
     "execution_count": 142,
     "metadata": {},
     "output_type": "execute_result"
    }
   ],
   "source": [
    "function TBF90_B_clean(tb_outb, i01p,  t, incang, k, a, g, n, eps, dz)\n",
    "    pi = 3.1415\n",
    "    jd = zeros(Float64, n+1)\n",
    "    jup = zeros(Float64, n+1)\n",
    "    cos1 = cos(incang / 180 * pi)\n",
    "    i01pb=zeros(Float64, 2*n+3)\n",
    "    tb=zeros(Float64, n+1)\n",
    "    kb=zeros(Float64, n+1)\n",
    "    ab=zeros(Float64, n+1)\n",
    "    gb=zeros(Float64, n+1)\n",
    "    eps=0.0\n",
    "\n",
    "    for k1 in 1:n+1\n",
    "        jup[k1] = (1 - a[k1]) * t[k1] + a[k1] * (0.5 * (i01p[2*k1-1] + i01p[2*k1+1]) * g[k1] * cos1 + i01p[2*k1])\n",
    "        jd[k1] = (1 - a[k1]) * t[k1] + a[k1] * (-0.5 * (i01p[2*k1-1] + i01p[2*k1+1]) * g[k1] * cos1 + i01p[2*k1])\n",
    "    end\n",
    "    \n",
    "    intdo = zeros(Float64, n+1)\n",
    "    intup = zeros(Float64, n+1)\n",
    "    intdo[1] = k[1] * dz / 2\n",
    "    intup[n+1] = k[n+1] * dz / 2\n",
    "    \n",
    "    for k1 in 1:n\n",
    "        intup[n+1-k1] = intup[n-k1+2] + 0.5 * (k[n+1-k1] + k[n+1-k1+1]) * dz\n",
    "    end\n",
    "    \n",
    "    for k1 in 2:n+1\n",
    "        intdo[k1] = intdo[k1-1] + 0.5 * (k[k1] + k[k1-1]) * dz\n",
    "    end\n",
    "    \n",
    "    sumjd = 0.0\n",
    "    for i in 1:n+1\n",
    "        sumjd += jd[i] * exp(-intdo[i] / cos1) * k[i] * dz / cos1\n",
    "    end\n",
    "    \n",
    "    tb .= 0.0\n",
    "    intupb = zeros(Float64, n+1)\n",
    "    temp1 = -(intup[1] / cos1)\n",
    "    temp = -(intup[1] / cos1)\n",
    "    tempb = exp(temp1) * tb_outb\n",
    "    intupb[1] -= (exp(temp1) * (1 - eps) * sumjd / cos1 + exp(temp) * eps * t[1] / cos1) * tb_outb\n",
    "    sumjub = tb_outb\n",
    "    tempb1 = exp(temp) * tb_outb\n",
    "    epsb = t[1] * tempb1 - sumjd * tempb\n",
    "    tb[1] += eps * tempb1\n",
    "    sumjdb = (1 - eps) * tempb\n",
    "    \n",
    "    kb .= 0.0\n",
    "    intdob = zeros(Float64, n+1)\n",
    "    jupb = zeros(Float64, n+1)\n",
    "    jdb = zeros(Float64, n+1)\n",
    "    \n",
    "    for i in n+1:-1:1\n",
    "        temp1 = -(intup[i] / cos1)\n",
    "        temp = jup[i] / cos1\n",
    "        tempb = exp(temp1) * dz * sumjub\n",
    "        intupb[i] -= exp(temp1) * temp * k[i] * dz * sumjub / cos1\n",
    "        jupb[i] += k[i] * tempb / cos1\n",
    "        temp0 = -(intdo[i] / cos1)\n",
    "        temp1 = jd[i] / cos1\n",
    "        tempb0 = exp(temp0) * dz * sumjdb\n",
    "        kb[i] += temp * tempb + temp1 * tempb0\n",
    "        intdob[i] -= exp(temp0) * temp1 * k[i] * dz * sumjdb / cos1\n",
    "        jdb[i] += k[i] * tempb0 / cos1\n",
    "    end\n",
    "    \n",
    "    for k1 in n+1:-1:2\n",
    "        intdob[k1-1] += intdob[k1]\n",
    "        tempb = dz * 0.5 * intdob[k1]\n",
    "        intdob[k1] = 0.0\n",
    "        kb[k1] += tempb\n",
    "        kb[k1-1] += tempb\n",
    "    end\n",
    "    \n",
    "    for k1 in n:-1:1\n",
    "        intupb[n-k1+2] += intupb[n+1-k1]\n",
    "        tempb = dz * 0.5 * intupb[n+1-k1]\n",
    "        intupb[n+1-k1] = 0.0\n",
    "        kb[n+1-k1] += tempb\n",
    "        kb[n+1-k1+1] += tempb\n",
    "    end\n",
    "    \n",
    "    kb[n+1] += dz * intupb[n+1] / 2\n",
    "    kb[1] += dz * intdob[1] / 2\n",
    "    gb .= 0.0\n",
    "    i01pb .= 0.0\n",
    "    ab .= 0.0\n",
    "    \n",
    "    for k1 in n+1:-1:1\n",
    "        tempb = cos1 * 0.5 * a[k1] * jupb[k1]\n",
    "        temp = i01p[2*k1-1] + i01p[2*k1+1]\n",
    "        temp0 = i01p[2*k1-1] + i01p[2*k1+1]\n",
    "        ab[k1] += (i01p[2*k1] - cos1 * 0.5 * temp0 * g[k1] - t[k1]) * jdb[k1] + (cos1 * 0.5 * temp * g[k1] + i01p[2*k1] - t[k1]) * jupb[k1]\n",
    "        tb[k1] += (1 - a[k1]) * jdb[k1] + (1 - a[k1]) * jupb[k1]\n",
    "        i01pb[2*k1] += a[k1] * jdb[k1] + a[k1] * jupb[k1]\n",
    "        tempb0 = -cos1 * 0.5 * a[k1] * jdb[k1]\n",
    "        jdb[k1] = 0.0\n",
    "        i01pb[2*k1-1] += g[k1] * tempb0 + g[k1] * tempb\n",
    "        i01pb[2*k1+1] += g[k1] * tempb0 + g[k1] * tempb\n",
    "        gb[k1] += temp0 * tempb0 + temp * tempb\n",
    "        jupb[k1] = 0.0\n",
    "    end\n",
    "    \n",
    "    tb_outb = 0.0\n",
    "    return tb, i01pb, kb, ab, gb, epsb\n",
    "end\n"
   ]
  },
  {
   "cell_type": "code",
   "execution_count": null,
   "metadata": {},
   "outputs": [],
   "source": [
    "function SUML1B_B(lam1, k, a, g, n, t, eps, dz)\n",
    "    yb = 1.0\n",
    "    kb = zeros(Float64, n+1)\n",
    "    tb = zeros(Float64, n+1)\n",
    "    ab = zeros(Float64, n+1)\n",
    "    kb .= 0.0\n",
    "    tb .= 0.0\n",
    "    ab .= 0.0\n",
    "    bb = zeros(Float64, 2*n+3)\n",
    "    \n",
    "    for i in n:-1:0\n",
    "        bb[2*i+2] += lam1[2*i+2] * yb\n",
    "        tempb = dz * 3 * bb[2*i+2]\n",
    "        bb[2*i+2] = 0.0\n",
    "        ab[i+1] -= k[i+1] * t[i+1] * tempb\n",
    "        tempb0 = (1 - a[i+1]) * tempb\n",
    "        kb[i+1] += t[i+1] * tempb0\n",
    "        tb[i+1] += k[i+1] * tempb0\n",
    "    end\n",
    "    \n",
    "    yb = 0.0\n",
    "    return tb, kb, ab\n",
    "end\n"
   ]
  },
  {
   "cell_type": "code",
   "execution_count": 180,
   "metadata": {},
   "outputs": [
    {
     "name": "stdout",
     "output_type": "stream",
     "text": [
      "  1.019557 seconds (115.63 k allocations: 902.624 MiB, 2.25% gc time, 4.08% compilation time)\n"
     ]
    }
   ],
   "source": [
    "tb_jlL=[]\n",
    "@time for i in 1:1000\n",
    "    kext1=Float64.(kext[i,:])\n",
    "    scat1=Float64.(scat[i,:])\n",
    "    asym1=Float64.(asym[i,:])\n",
    "    temp1=Float64.(temp[i,:])\n",
    "    temp_mid = 0.5 * (temp1[1:end-1] + temp1[2:end])\n",
    "    n = length(kext1) - 1\n",
    "    eps=0.7\n",
    "    dz=0.25\n",
    "    incAng=53.0\n",
    "    A,b=SetEddington1D_nobuffer(temp_mid, kext1, scat1, asym1, n, eps, dz, temp1[1]);\n",
    "    I01p=A\\b;\n",
    "    Tb_jl=tbf90(I01p, temp1, incAng, kext1, scat1, asym1, n, eps, dz);\n",
    "    tb_outb=1.0\n",
    "\n",
    "    tb, i01pb, kb, ab, gb, epsb=TBF90_B_clean(tb_outb,I01p, temp1, incAng, kext1, scat1, asym1, n, eps, dz);\n",
    "    Ainv=inv(A)\n",
    "    lam1=Ainv*i01pb;\n",
    "    SUML1B_B(lam1, k, a, g, n, t, eps, dz)\n",
    "    push!(tb_jlL,Tb_jl)\n",
    "end\n"
   ]
  },
  {
   "cell_type": "code",
   "execution_count": 178,
   "metadata": {},
   "outputs": [
    {
     "data": {
      "text/plain": [
       "PyObject <module 'numpy' from '/Users/mgrecu/miniconda3/lib/python3.9/site-packages/numpy/__init__.py'>"
      ]
     },
     "execution_count": 178,
     "metadata": {},
     "output_type": "execute_result"
    }
   ],
   "source": [
    "np=pyimport(\"numpy\")\n",
    "#print(np.corrcoef(tb_eddgn[1:1000],tb_jlL))"
   ]
  },
  {
   "cell_type": "code",
   "execution_count": 179,
   "metadata": {},
   "outputs": [],
   "source": [
    "\n",
    "plt.scatter(tb_eddgn[1:1000],tb_jlL)\n",
    "plt.plot([180,260],[180,260])\n",
    "plt.show()\n"
   ]
  }
 ],
 "metadata": {
  "kernelspec": {
   "display_name": "Julia 1.10.4",
   "language": "julia",
   "name": "julia-1.10"
  },
  "language_info": {
   "file_extension": ".jl",
   "mimetype": "application/julia",
   "name": "julia",
   "version": "1.10.4"
  }
 },
 "nbformat": 4,
 "nbformat_minor": 4
}
