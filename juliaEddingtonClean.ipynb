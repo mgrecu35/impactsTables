{
 "cells": [
  {
   "cell_type": "code",
   "execution_count": 7,
   "metadata": {},
   "outputs": [
    {
     "data": {
      "text/plain": [
       "SetEddington1D (generic function with 1 method)"
      ]
     },
     "execution_count": 7,
     "metadata": {},
     "output_type": "execute_result"
    }
   ],
   "source": [
    "\n",
    "function tbf90(I01p, T, incAng, k, a, g, n, eps, dz)\n",
    "    cos1 = cos(incAng / 180.0 * π)\n",
    "    Jup = zeros(eltype(I01p), n + 1)\n",
    "    Jd = zeros(eltype(I01p), n + 1)\n",
    "\n",
    "    intDo = zeros(eltype(I01p), n + 1)\n",
    "    intUp = zeros(eltype(I01p), n + 1)\n",
    "    \n",
    "    # these temperatures should be defined at the boundaries between cells\n",
    "    # there are n I0 and n+1 I1 values\n",
    "    for k1 in 1:n+1\n",
    "        Jup[k1] = (1 - a[k1]) * T[k1] + a[k1] * (0.5 * (I01p[2*k1-1] + I01p[2*k1+1]) * g[k1] * cos1 + I01p[2*k1])\n",
    "        Jd[k1] = (1 - a[k1]) * T[k1] + a[k1] * (-0.5 * (I01p[2*k1-1] + I01p[2*k1+1]) * g[k1] * cos1 + I01p[2*k1])\n",
    "    end\n",
    "\n",
    "    intDo[1] = k[1] * dz / 2\n",
    "    intUp[n+1] = k[n+1] * dz / 2\n",
    "\n",
    "    for k1 in 1:n\n",
    "        intUp[n+1-k1] = intUp[n-k1+2] + 0.5 * (k[n+1-k1] + k[n+1-k1+1]) * dz\n",
    "    end\n",
    "\n",
    "    for k1 in 2:n+1\n",
    "        intDo[k1] = intDo[k1-1] + 0.5 * (k[k1] + k[k1-1]) * dz\n",
    "    end\n",
    "    sumJD = zero(eltype(I01p))\n",
    "    sumJU = zero(eltype(I01p))\n",
    "    \n",
    "    for i in 1:n+1\n",
    "        sumJD += Jd[i] * exp(-intDo[i] / cos1) * k[i] * dz / cos1\n",
    "        sumJU += Jup[i] * exp(-intUp[i] / cos1) * k[i] * dz / cos1\n",
    "    end\n",
    "\n",
    "    Tb = (1 - eps) * exp(-intUp[1] / cos1) * sumJD + sumJU + eps * exp(-intUp[1] / cos1) * T[1]\n",
    "    return Tb\n",
    "end\n",
    "\n",
    "function SetEddington1D(T, k, a, g, n, eps, dz, Ts)\n",
    "    Abig = zeros(eltype(T), 2*n+3, 2*n+3)\n",
    "    B = zeros(eltype(T), 2*n+3)\n",
    "    # dI0/dz=-k*(1-a*g)*I1      deq  \n",
    "    # dI1/dz=-3*k*(1-a)*(I0-T)  deq \n",
    "    # I0,0+(2-eps)/(3*eps)*(I1,0+I1,1)=Ts bc\n",
    "    # the first component of the solution is I1,1, then I0,1 and so on\n",
    "    # J=(1-a)*T+a*(I0+g*I1*cos(ang))  J\n",
    "    # Io,n -1/3 [I1,n+I1,n+1]= 2.7 top boundary\n",
    "    # In this discretization, temperatures and scattering properties should be defined at the centers of cells\n",
    "    for i in 0:n\n",
    "        Abig[2*i+2, 2*i+2] = 3 * k[i+1] * (1 - a[i+1]) * dz  # equation for I1\n",
    "        Abig[2*i+2, 2*i+3] = 1\n",
    "        Abig[2*i+2, 2*i+1] = -1\n",
    "        B[2*i+2] = 3 * k[i+1] * (1 - a[i+1]) * T[i+1] * dz\n",
    "\n",
    "        if 2*i+3 < 2*n+3\n",
    "            km = 0.5 * (k[i+1] + k[i+2])\n",
    "            am = 0.5 * (a[i+1] + a[i+2])\n",
    "            gm = 0.5 * (g[i+1] + g[i+2])\n",
    "            Abig[2*i+3, 2*i+3] = km * (1 - am * gm) * dz # equation for I0\n",
    "            Abig[2*i+3, 2*i+4] = 1\n",
    "            Abig[2*i+3, 2*i+2] = -1\n",
    "            B[2*i+3] = 0.0\n",
    "        end\n",
    "    end\n",
    "\n",
    "    Abig[2*n+3, 2*n+2] = 1.0\n",
    "    Abig[2*n+3, 2*n+3] = -1.0 / 3.0\n",
    "    Abig[2*n+3, 2*n+1] = -1.0 / 3.0\n",
    "    B[2*n+3] = 2.7\n",
    "\n",
    "    Abig[1, 1] = (2 - eps) / (3 * eps)\n",
    "    Abig[1, 2] = 1.0\n",
    "    Abig[1, 3] = (2 - eps) / (3 * eps)\n",
    "    B[1] = Ts\n",
    "    return Abig, B \n",
    "end\n"
   ]
  },
  {
   "cell_type": "code",
   "execution_count": 64,
   "metadata": {},
   "outputs": [
    {
     "data": {
      "text/plain": [
       "tbwrapper_enz (generic function with 1 method)"
      ]
     },
     "execution_count": 64,
     "metadata": {},
     "output_type": "execute_result"
    }
   ],
   "source": [
    "function tbwrapper_enz(params::Array{Float64}, y::Array{Float64})\n",
    "    n1=Int((size(params)[1]-4)/4)\n",
    "    kext1=params[1:n1]\n",
    "    kscat1=params[n1+1:2*n1]\n",
    "    asym1=params[2*n1+1:3*n1]\n",
    "    temp1=params[3*n1+1:4*n1+1]\n",
    "    eps=params[4*n1+2]\n",
    "    dz=params[4*n1+3]\n",
    "    incAng=params[4*n1+4]\n",
    "    n=n1-1\n",
    "    temp_mid = 0.5 * (temp1[1:end-1] + temp1[2:end])\n",
    "    #println(\"$dz $incAng $eps $n\");\n",
    "    A,B=SetEddington1D(temp_mid, kext1, kscat1, asym1, n, eps, dz, temp1[1]);\n",
    "    I01p=A\\B;\n",
    "    Tb_jl=tbf90(I01p, temp1, incAng, kext1, kscat1, asym1, n, eps, dz);\n",
    "    y[1]=Tb_jl;\n",
    "    return nothing #, I01p\n",
    "end"
   ]
  },
  {
   "cell_type": "code",
   "execution_count": 13,
   "metadata": {},
   "outputs": [],
   "source": [
    "#using ReverseDiff\n",
    "#using Pkg\n",
    "#Pkg.add(\"ReverseDiff\")\n",
    "import PyCall\n",
    "using PyCall\n",
    "np=pyimport(\"numpy\")\n",
    "pushfirst!(PyVector(pyimport(\"sys\")[\"path\"]), \"\")\n",
    "read_rte_data=pyimport(\"read_rte_data\")\n",
    "kext, scat, asym, temp, tb_eddgn=read_rte_data.read_data();\n"
   ]
  },
  {
   "cell_type": "code",
   "execution_count": 27,
   "metadata": {},
   "outputs": [
    {
     "name": "stderr",
     "output_type": "stream",
     "text": [
      "\u001b[32m\u001b[1m   Resolving\u001b[22m\u001b[39m package versions...\n",
      "\u001b[32m\u001b[1m   Installed\u001b[22m\u001b[39m Enzyme_jll ─── v0.0.128+0\n",
      "\u001b[32m\u001b[1m   Installed\u001b[22m\u001b[39m EnzymeCore ─── v0.7.6\n",
      "\u001b[32m\u001b[1m   Installed\u001b[22m\u001b[39m StructIO ───── v0.3.0\n",
      "\u001b[32m\u001b[1m   Installed\u001b[22m\u001b[39m TimerOutputs ─ v0.5.24\n",
      "\u001b[32m\u001b[1m   Installed\u001b[22m\u001b[39m GPUCompiler ── v0.26.6\n",
      "\u001b[32m\u001b[1m   Installed\u001b[22m\u001b[39m Enzyme ─────── v0.12.21\n",
      "\u001b[32m\u001b[1m   Installed\u001b[22m\u001b[39m ObjectFile ─── v0.4.1\n",
      "\u001b[32m\u001b[1m    Updating\u001b[22m\u001b[39m `~/.julia/environments/v1.10/Project.toml`\n",
      "  \u001b[90m[7da242da] \u001b[39m\u001b[92m+ Enzyme v0.12.21\u001b[39m\n",
      "\u001b[32m\u001b[1m    Updating\u001b[22m\u001b[39m `~/.julia/environments/v1.10/Manifest.toml`\n",
      "  \u001b[90m[7da242da] \u001b[39m\u001b[92m+ Enzyme v0.12.21\u001b[39m\n",
      "  \u001b[90m[f151be2c] \u001b[39m\u001b[92m+ EnzymeCore v0.7.6\u001b[39m\n",
      "  \u001b[90m[e2ba6199] \u001b[39m\u001b[92m+ ExprTools v0.1.10\u001b[39m\n",
      "  \u001b[90m[61eb1bfa] \u001b[39m\u001b[92m+ GPUCompiler v0.26.6\u001b[39m\n",
      "  \u001b[90m[d8793406] \u001b[39m\u001b[92m+ ObjectFile v0.4.1\u001b[39m\n",
      "  \u001b[90m[6c6a2e73] \u001b[39m\u001b[92m+ Scratch v1.2.1\u001b[39m\n",
      "  \u001b[90m[53d494c1] \u001b[39m\u001b[92m+ StructIO v0.3.0\u001b[39m\n",
      "  \u001b[90m[a759f4b9] \u001b[39m\u001b[92m+ TimerOutputs v0.5.24\u001b[39m\n",
      "\u001b[33m⌅\u001b[39m \u001b[90m[7cc45869] \u001b[39m\u001b[92m+ Enzyme_jll v0.0.128+0\u001b[39m\n",
      "\u001b[36m\u001b[1m        Info\u001b[22m\u001b[39m Packages marked with \u001b[33m⌅\u001b[39m have new versions available but compatibility constraints restrict them from upgrading. To see why use `status --outdated -m`\n",
      "\u001b[32m\u001b[1mPrecompiling\u001b[22m\u001b[39m project...\n",
      "\u001b[32m  ✓ \u001b[39m\u001b[90mScratch\u001b[39m\n",
      "\u001b[32m  ✓ \u001b[39m\u001b[90mStructIO\u001b[39m\n",
      "\u001b[32m  ✓ \u001b[39m\u001b[90mExprTools\u001b[39m\n",
      "\u001b[32m  ✓ \u001b[39m\u001b[90mEnzymeCore\u001b[39m\n",
      "\u001b[32m  ✓ \u001b[39m\u001b[90mEnzyme_jll\u001b[39m\n",
      "\u001b[32m  ✓ \u001b[39m\u001b[90mEnzymeCore → AdaptExt\u001b[39m\n",
      "\u001b[32m  ✓ \u001b[39m\u001b[90mTimerOutputs\u001b[39m\n",
      "\u001b[32m  ✓ \u001b[39m\u001b[90mObjectFile\u001b[39m\n",
      "\u001b[32m  ✓ \u001b[39m\u001b[90mGPUCompiler\u001b[39m\n",
      "\u001b[32m  ✓ \u001b[39mEnzyme\n",
      "\u001b[32m  ✓ \u001b[39m\u001b[90mEnzyme → EnzymeChainRulesCoreExt\u001b[39m\n",
      "\u001b[32m  ✓ \u001b[39m\u001b[90mEnzyme → EnzymeSpecialFunctionsExt\u001b[39m\n",
      "\u001b[32m  ✓ \u001b[39m\u001b[90mEnzyme → EnzymeStaticArraysExt\u001b[39m\n",
      "  13 dependencies successfully precompiled in 126 seconds. 88 already precompiled.\n"
     ]
    }
   ],
   "source": [
    "using Pkg\n",
    "#Pkg.add(\"ForwardDiff\")\n",
    "Pkg.add(\"Enzyme\")"
   ]
  },
  {
   "cell_type": "code",
   "execution_count": 75,
   "metadata": {},
   "outputs": [],
   "source": [
    "#using ReverseDiff\n",
    "#using ForwardDiff\n",
    "using Enzyme\n",
    "tbL1=[]\n",
    "tbL2=[]\n",
    "gradient_Enz_L=[]\n",
    "for i in 1:1001\n",
    "    kext1=Float64.(kext[i,1:end])\n",
    "    kscat1=Float64.(scat[i,1:end])\n",
    "    asym1=Float64.(asym[i,1:end])\n",
    "    temp1=Float64.(temp[i,1:end])\n",
    "    eps=0.7\n",
    "    dz=0.25\n",
    "    incAng=53\n",
    "    params=vcat(kext1, kscat1, asym1, temp1, eps, dz, incAng)\n",
    "    n1=Int((size(params)[1]-4)/4)\n",
    "    tbj=[0.0];\n",
    "    adjtb=[1.0];\n",
    "    adjparams=zeros(eltype(params),size(params)[1])\n",
    "    tbwrapper(params,tbj)\n",
    "    Enzyme.autodiff(Reverse,tbwrapper_enz, Duplicated(params,adjparams), Duplicated(tbj, adjtb))\n",
    "    push!(tbL1,tbj[1])\n",
    "    push!(tbL2,tb_eddgn[i])   \n",
    "    push!(gradient_Enz_L,copy(adjparams))\n",
    "end\n",
    "\n"
   ]
  },
  {
   "cell_type": "code",
   "execution_count": 42,
   "metadata": {},
   "outputs": [
    {
     "name": "stdout",
     "output_type": "stream",
     "text": [
      "Any[248.35644105574104, 219.4345864789102]\n"
     ]
    }
   ],
   "source": [
    "println(tbL1)"
   ]
  },
  {
   "cell_type": "code",
   "execution_count": 67,
   "metadata": {},
   "outputs": [],
   "source": [
    "using PyCall\n",
    "pushfirst!(PyVector(pyimport(\"sys\")[\"path\"]), \"\")\n",
    "read_rte_data=pyimport(\"read_rte_data\")\n",
    "#kext, scat, asym, temp, tb_eddgn=read_rte_data.read_data();\n",
    "\n",
    "np=pyimport(\"numpy\")\n",
    "torch_rt1=pyimport(\"torch_rt_grad\")\n",
    "n=79\n",
    "kext1_torch_grad=zeros(Float32, n+1)\n",
    "for i in 1:1001\n",
    "    kext1=Float32.(kext[i,:])\n",
    "    kscat1=Float32.(scat[i,:])\n",
    "    asym1=Float32.(asym[i,:])\n",
    "    temp1=Float32.(temp[i,:])\n",
    "    kext1_torch_grad,kscat1_torch_grad,asym1_torch_grad=torch_rt1.torch_grad(kext1, kscat1, asym1, temp1)\n",
    "end "
   ]
  },
  {
   "cell_type": "code",
   "execution_count": 77,
   "metadata": {},
   "outputs": [
    {
     "name": "stdout",
     "output_type": "stream",
     "text": [
      "(324,)"
     ]
    },
    {
     "data": {
      "image/png": "[encoded data removed]",
      "text/plain": [
       "Figure(PyObject <Figure size 640x480 with 1 Axes>)"
      ]
     },
     "metadata": {},
     "output_type": "display_data"
    },
    {
     "data": {
      "text/plain": [
       "PyObject <matplotlib.legend.Legend object at 0x37470bbb0>"
      ]
     },
     "execution_count": 77,
     "metadata": {},
     "output_type": "execute_result"
    }
   ],
   "source": [
    "print(size(gradientL[1]))\n",
    "using PyPlot\n",
    "plt.close(\"all\")\n",
    "#plot(gradientL[1][1:80],label=\"Julia\")\n",
    "plot(gradient_Enz_L[1][1:80],label=\"Enzyme\")\n",
    "plot(gradient_Enz_L[2][1:80],label=\"Enzyme\")\n",
    "plot(gradient_Enz_L[3][1:80],label=\"Enzyme\")\n",
    "#plot(kext1_torch_grad,\"--\",label=\"Torch\")\n",
    "legend()"
   ]
  },
  {
   "cell_type": "code",
   "execution_count": 266,
   "metadata": {},
   "outputs": [],
   "source": [
    "torch_rt=pyimport(\"torch_rt_grad\")\n",
    "kext1_torch_grad=zeros(Float32, n+1)\n",
    "for i in 1:1\n",
    "    kext1=Float32.(kext[i,:])\n",
    "    kscat1=Float32.(scat[i,:])\n",
    "    asym1=Float32.(asym[i,:])\n",
    "    temp1=Float32.(temp[i,:])\n",
    "    kext1_torch_grad,kscat1_torch_grad,asym1_torch_grad=torch_rt.torch_grad(kext1, kscat1, asym1, temp1)\n",
    "end \n"
   ]
  }
 ],
 "metadata": {
  "kernelspec": {
   "display_name": "Julia 1.10.4",
   "language": "julia",
   "name": "julia-1.10"
  },
  "language_info": {
   "file_extension": ".jl",
   "mimetype": "application/julia",
   "name": "julia",
   "version": "1.10.4"
  }
 },
 "nbformat": 4,
 "nbformat_minor": 4
}
